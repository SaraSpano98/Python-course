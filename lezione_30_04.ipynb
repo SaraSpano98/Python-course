{
 "cells": [
  {
   "cell_type": "markdown",
   "metadata": {},
   "source": [
    "### Abbiamo parlato di nuovo di variabili in generale e ci siamo soffermati su come queste sono immagazzinate in memoria.\n",
    "#### Vi ricordo che con memoria ci stiamo riferendo alla RAM del nostro computer!"
   ]
  },
  {
   "cell_type": "code",
   "execution_count": 8,
   "metadata": {},
   "outputs": [],
   "source": [
    "# Assegnazione (assegnazione + inizializzazione)\n",
    "x = 5\n",
    "y = 7"
   ]
  },
  {
   "cell_type": "markdown",
   "metadata": {},
   "source": [
    "### Creare una variabile vuol dire inserire un valore da qualche parte in memoria e salvare l'indirizzo di riferimento in un nome scelto da noi. "
   ]
  },
  {
   "cell_type": "markdown",
   "metadata": {},
   "source": [
    "<img src=\"./img/variables_init.png\" alt=\"L'immagine si trova nella cartella img\">"
   ]
  },
  {
   "cell_type": "code",
   "execution_count": 8,
   "metadata": {},
   "outputs": [
    {
     "name": "stdout",
     "output_type": "stream",
     "text": [
      "4554796712\n",
      "4554796712\n"
     ]
    }
   ],
   "source": [
    "# Il risultato di questa assegnazione è che ora x ed y puntano alla stessa area di memoria\n",
    "x = 5\n",
    "y = 7\n",
    "y = x\n",
    "print(id(x))\n",
    "print(id(y))"
   ]
  },
  {
   "cell_type": "markdown",
   "metadata": {},
   "source": [
    "<img src=\"./img/variables_same_reference.png\" alt=\"L'immagine si trova nella cartella img\">"
   ]
  },
  {
   "cell_type": "code",
   "execution_count": 9,
   "metadata": {},
   "outputs": [
    {
     "name": "stdout",
     "output_type": "stream",
     "text": [
      "4\n",
      "5\n"
     ]
    }
   ],
   "source": [
    "x = 4\n",
    "print(x)\n",
    "print(y)"
   ]
  },
  {
   "cell_type": "markdown",
   "metadata": {},
   "source": [
    "### Questa è la vera definizione di variabili mutable e immutable.\n",
    "\n",
    "#### Quando modifico una variabile immutable, mi viene restituito una nuova variabile che punta ad \n",
    "#### un indirizzo di memoria diverso (che contiene il nuovo valore assegnato).\n",
    "\n",
    "#### Quando modifico una variabile mutable, mi viene restituito lo stesso indirizzo di memoria\n",
    "#### ma con la variabile modificata."
   ]
  },
  {
   "cell_type": "markdown",
   "metadata": {},
   "source": [
    "### Questo è il reale motivo per cui potete modificare una lista all'interno di una tupla\n",
    "\n",
    "t = (1, 2.5, [1, 2, 3 , 4, 5])\n",
    "\n",
    "t[0] = 1 # questo è sbagliato, dal punto di vista della tupla la state modificando </br>\n",
    "t[2][1] = 100 # questo è lecito, perchè dal punto di vista della tupla non la state modificando\n",
    "\n",
    "### Perché?\n",
    "#### Perché abbiamo definito cosa vuol dire modificare.\n",
    "#### Modificare <u>non vuol dire solo cambiare il valore di un variabile</u>.\n",
    "#### <b>Vuol dire cambiare il suo indirizzo!</b>"
   ]
  },
  {
   "cell_type": "markdown",
   "metadata": {},
   "source": [
    "#### In realtà la tupla non conserva il valore, come ci siamo detti, conserva <u>indirizzi di memoria</u>\n",
    "#### Potete immaginarla così:\n",
    ">\n",
    "> a = 1 <br/>\n",
    "> b = 2 <br/>\n",
    "> c = [1, 2, 3, 4] <br/>\n",
    "> t = (1, 2, [1, 2, 3, 4]) --> t = (id(a), id(b), id(c))\n",
    ">\n",
    "#### La tupla salva gli indirizzi delle variabili!\n",
    "\n",
    "#### Come si accorge se una variabile cambia o meno?\n",
    "\n",
    "#### Facile, se il suo indirizzo cambia la state cambiando, se il suo indirizzo non cambia non lo state facendo.\n",
    "\n",
    "#### E allora, quando cambiate un intero in una tupla, state modificando il suo indirizzo, questa cosa non vale per un mutable, perché abbiamo visto che quando modificate un mutable il suo indirizzo non cambia!!"
   ]
  },
  {
   "cell_type": "markdown",
   "metadata": {},
   "source": [
    "## Esecizio\n",
    "\n",
    "#### In questo esercizio dovrete creare una programma che gestisca una libreria.\n",
    "\n",
    "#### Create una lista vuota e chiamatela inventario:\n",
    "- All'interno salverete i libri: liste contenenti [titolo, autore, numero_copie].\n",
    "- Es: inventario = [[titolo1, autore1, 2], [titolo2, autore2, 0]]\n",
    "\n",
    "#### Create una lista vuota e chiamatela prestiti\n",
    "- All'interno salverete tuple del tipo: (nome_utente, [titolo_libro1, titolo_libro2])\n",
    "- Es: prestiti = [(nome_utente1, [titolo1, titolo2]), (nome_utente2, [titolo1, titolo2])]\n",
    "\n",
    "### Implementate le seguenti funzioni:\n",
    "\n",
    "##### def aggiungi_libro(titolo, autore, numero_copie):\n",
    "- numero copie non è obbligatorio, se non viene passato alla funzione vale 0 (lo sto creando ma non ho copie).\n",
    "- se inserisco un libro con lo stesso titolo, semplicemente aumentano le copie.\n",
    "- se le copie arrivano a 0, non elimino il libro!\n",
    "- un libro con lo stesso titolo non può avere un autore diverso.\n",
    "\n",
    "##### def presta_libro(nome_utente, titolo_libro):\n",
    "- per prestare un libro devo averlo in inventario e devo avere almeno una copia, se non ce l'ho dico all'utente che può prenotarlo e riceverà una notifica quando arriva (questa non la implementiamo).\n",
    "- ogni utente può avere al massimo un libro con lo stesso titolo.\n",
    "- chiaramente se riesco a prestare il libro, il numero di copie in inventario decresce.\n",
    "\n",
    "##### def restituisci_libro(nome_utente, titolo_libro):\n",
    "- verificare che esista un utente con quel nome nella lista prestiti.\n",
    "- verificare che l'utente abbia in prestito un libro con quel titolo.\n",
    "- rimuovere il libro dalla lista prestiti relativa a quell'utente senza eliminare l'utente.\n",
    "- chiaramente se restituisco un libro, il numero in inventario cresce.\n",
    "- c'è un modo più efficiente per sapere se un utente esiste senza dover usare sempre la lista prestiti??\n",
    "\n",
    "##### def stampa_libri_inventario()\n",
    "- stampa tutti i libri che ho all'interno dell'inventario.\n",
    "\n",
    "##### def stampa_libri_prestati()\n",
    "- stampa i libri prestati per utente.\n",
    "- per ogni riga viene visualizzato: nome_utente -> titolo1, titolo2, ....\n",
    "\n",
    "##### def salva_stato_libreria(inventario, prestiti):\n",
    "- salva all'interno di un file (o due, come volete) lo stato attuale di inventario e prestiti.\n",
    "- scegliete voi il formato, a patto che poi possiate recuperarlo.\n",
    "\n",
    "##### def recupera_stato_libreria(file):\n",
    "- legge il/i file di stato che avete salvato e carica il contenuto nelle 2 liste (inventario e prestiti).\n",
    "\n",
    "\n",
    "#### Create un menu per la gestione della libreria usando le varie opzioni.\n",
    "\n",
    "#### Il programma deve essere persistente, tutte le volte che lo lancio deve prima provare a recuperare i dati dell'inventario e dei prestiti, se non trova niente, crea le due liste vuote.\n",
    "\n",
    "#### Suggerimento: usate la funzione recupera_stato_libreria all'inizio del vostro programma per provare a caricare le 2 liste\n",
    "\n",
    "#### N.B: Non c'è nessuna limitazione sul numero di funzioni che potete creare (per chi sa già come fare potete dividerli anche in moduli). Create quindi funzioni ausiliarie per rendere il codice più leggibile."
   ]
  },
  {
   "cell_type": "markdown",
   "metadata": {},
   "source": []
  }
 ],
 "metadata": {
  "kernelspec": {
   "display_name": "Python 3",
   "language": "python",
   "name": "python3"
  },
  "language_info": {
   "codemirror_mode": {
    "name": "ipython",
    "version": 3
   },
   "file_extension": ".py",
   "mimetype": "text/x-python",
   "name": "python",
   "nbconvert_exporter": "python",
   "pygments_lexer": "ipython3",
   "version": "3.11.3"
  },
  "orig_nbformat": 4
 },
 "nbformat": 4,
 "nbformat_minor": 2
}
